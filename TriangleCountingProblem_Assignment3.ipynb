{
 "cells": [
  {
   "cell_type": "markdown",
   "metadata": {},
   "source": [
    "# Triangle Counting Problem | BDA Assignment #2\n",
    "## Developer: Anshul Khantwal, MT16010, IIIT Delhi"
   ]
  },
  {
   "cell_type": "markdown",
   "metadata": {},
   "source": [
    "## NodeIterator Algorithm"
   ]
  },
  {
   "cell_type": "code",
   "execution_count": 11,
   "metadata": {
    "collapsed": false
   },
   "outputs": [],
   "source": [
    "from pyspark.sql import SQLContext\n",
    "edges = sc.parallelize([(1,2),(1,3),(2,3),(3,4),(3,5),(4,5)])\n",
    "vectices = sc.parallelize([(1,),(2,),(3,),(4,),(5,),(6,)])"
   ]
  },
  {
   "cell_type": "markdown",
   "metadata": {},
   "source": [
    "The implementation of the algorithm is as follows:  \n",
    "    \n",
    "    Round 1: Generate the possible length two paths in the graph by pivoting on every node in parallel. \n",
    "    Round 2: Check which of the length two paths generated in Round 1 can be closed by an edge in the graph and count the triangles accordingly."
   ]
  },
  {
   "cell_type": "code",
   "execution_count": 12,
   "metadata": {
    "collapsed": false
   },
   "outputs": [],
   "source": [
    "def findTriangles(edges):\n",
    "    \n",
    "    def preprocessEdges(x):\n",
    "        if x[0]<x[1]:\n",
    "            return (x[0],x[1])\n",
    "        else:\n",
    "            return (x[1],x[0])\n",
    "    \n",
    "    edges = edges.map(preprocessEdges)\n",
    "    \n",
    "    \n",
    "    def mapper1(x):\n",
    "        if x[0]<x[1]:\n",
    "            return (x[0],[x[1]])\n",
    "        else:\n",
    "            return (x[1],[x[0]])\n",
    "    output_map1 = (edges.map(mapper1).filter(lambda x:x!=None)\n",
    "        .reduceByKey(lambda x,y:x+y))\n",
    "    \n",
    "    \n",
    "    def reducer1(x):\n",
    "        output = []\n",
    "        for a in range(0,len(x[1])):\n",
    "            for b in range(a+1,len(x[1])):\n",
    "                output.append(((x[1][a],x[1][b]),[x[0]]))\n",
    "        return output\n",
    "    output_reducer1 = output_map1.flatMap(reducer1)\n",
    "    output_reducer2 = edges.map(lambda x: ((x[0],x[1]),[\"*\"]))\n",
    "    output_reducer2 = output_reducer2.union(output_reducer1)\n",
    "    output = output_reducer2.reduceByKey(lambda x,y:x+y).collect()\n",
    "    \n",
    "    def generateTriplets(x):\n",
    "        output = []\n",
    "        for tupples in x:\n",
    "            vertex_list = tupples[1]\n",
    "            if \"*\" in vertex_list and len(vertex_list)!=1:\n",
    "                vertex_list = set(vertex_list)-{\"*\"}\n",
    "                for vertex in vertex_list:\n",
    "                    output.append((tupples[0][0],tupples[0][1],vertex))\n",
    "\n",
    "        return output\n",
    "    \n",
    "    return len(generateTriplets(output))"
   ]
  },
  {
   "cell_type": "code",
   "execution_count": 13,
   "metadata": {
    "collapsed": true
   },
   "outputs": [],
   "source": [
    "def driverNodeIteratorAlgorithm(edges):\n",
    "    return findTriangles(edges)"
   ]
  },
  {
   "cell_type": "code",
   "execution_count": 14,
   "metadata": {
    "collapsed": false,
    "scrolled": true
   },
   "outputs": [
    {
     "name": "stdout",
     "output_type": "stream",
     "text": [
      "No. of Triangles:\t 2\n"
     ]
    }
   ],
   "source": [
    "#Driver program to count the triangles\n",
    "output1 = driverNodeIteratorAlgorithm(edges)\n",
    "print(\"No. of Triangles:\\t\",output1)"
   ]
  },
  {
   "cell_type": "markdown",
   "metadata": {},
   "source": [
    "## Partition Algorithm\n",
    "The algorithm works by partitioning the graphs into overlapping subsets so that each triangle is present in at least one of the subsets. Given such a partition, we can then use any sequential triangle counting algorithm as a black box on each partition, and then simply combine the results."
   ]
  },
  {
   "cell_type": "code",
   "execution_count": 15,
   "metadata": {
    "collapsed": false
   },
   "outputs": [],
   "source": [
    "def driverPartitionAlgorithm(edges):\n",
    "    p = 4\n",
    "    \n",
    "    def mapper(x):\n",
    "        i = int(x[0]) % p\n",
    "        j = int(x[1]) % p\n",
    "\n",
    "        output = []\n",
    "\n",
    "        for a in range(0,p):\n",
    "            for b in range(a+1,p):\n",
    "                for c in range(b+1,p):\n",
    "                    if {i,j}.issubset({a,b,c}):\n",
    "                        (output.append((str(a)+\" \"+str(b)+\" \"+str(c),\n",
    "                                        [(x[0],x[1])])))\n",
    "        return output\n",
    "    mapper_output = (edges.flatMap(lambda x:mapper(x))\n",
    "        .reduceByKey(lambda x,y: x+y))\n",
    "    \n",
    "    def reducer(edge_list):\n",
    "        no_triangles = 0\n",
    "        \n",
    "        \n",
    "        def findTriangles(edges):\n",
    "            import networkx as nx\n",
    "            G=nx.Graph()\n",
    "            for x in edges:\n",
    "                G.add_edge(x[0],x[1])\n",
    "            result=[] \n",
    "            done=set()    # \n",
    "            for n in G: \n",
    "                done.add(n)    # \n",
    "                nbrdone=set()    # \n",
    "                nbrs=set(G[n]) \n",
    "                for nbr in nbrs: \n",
    "                    if nbr in done:    # \n",
    "                        continue    # \n",
    "                    nbrdone.add(nbr)    # \n",
    "                    for both in nbrs.intersection(G[nbr]): \n",
    "                        if both in done or both in nbrdone:    # \n",
    "                            continue    # \n",
    "                        result.append( (n,nbr,both) ) \n",
    "            return result\n",
    "        \n",
    "        triangles = findTriangles(edge_list)\n",
    "        \n",
    "        \n",
    "        def weightedCount(x):\n",
    "            u = int(x[0]) % p\n",
    "            v = int(x[1]) % p\n",
    "            w = int(x[2]) % p\n",
    "\n",
    "            z = 1\n",
    "            if u==v and v==w:\n",
    "                z = (u*(u-1)/2) + u*(p-u-1) + ((p-u-1)*(p-u-2)/2)\n",
    "            elif u==v or v==w or u==w:\n",
    "                z = p-2\n",
    "            z = 1/z\n",
    "            #return (str(x[0])+\" \"+str(x[1])+\" \"+str(x[2]),z)   \n",
    "            return z\n",
    "        \n",
    "        for tri in triangles:\n",
    "            no_triangles +=  weightedCount(tri)\n",
    "        return (\"*\",no_triangles)\n",
    "    \n",
    "    reducer_output = mapper_output.map(lambda x:reducer(x[1]))\n",
    "    return reducer_output.values().sum()"
   ]
  },
  {
   "cell_type": "code",
   "execution_count": 16,
   "metadata": {
    "collapsed": false
   },
   "outputs": [
    {
     "name": "stdout",
     "output_type": "stream",
     "text": [
      "No. of Triangles:\t 2.0\n"
     ]
    }
   ],
   "source": [
    "#Driver program to count the triangles\n",
    "output2 = driverPartitionAlgorithm(edges)\n",
    "print(\"No. of Triangles:\\t\",output2)"
   ]
  },
  {
   "cell_type": "markdown",
   "metadata": {},
   "source": [
    "## Comparing results of both the algorithms"
   ]
  },
  {
   "cell_type": "code",
   "execution_count": 17,
   "metadata": {
    "collapsed": false
   },
   "outputs": [
    {
     "name": "stdout",
     "output_type": "stream",
     "text": [
      "Both had converged to same number of Triangles.\n"
     ]
    }
   ],
   "source": [
    "if output1 == output2:\n",
    "    print(\"Both had converged to same number of Triangles.\")"
   ]
  },
  {
   "cell_type": "code",
   "execution_count": 19,
   "metadata": {
    "collapsed": false
   },
   "outputs": [],
   "source": [
    "import time\n",
    "currentMilliTime = lambda: int(round(time.time() * 1000))\n",
    "\n",
    "t1 = currentMilliTime()\n",
    "driverNodeIteratorAlgorithm(edges)\n",
    "t2 = currentMilliTime()\n",
    "time1 = t2-t1\n",
    "\n",
    "t1 = currentMilliTime()\n",
    "driverPartitionAlgorithm(edges)\n",
    "t2 = currentMilliTime()\n",
    "time2 = t2-t1"
   ]
  },
  {
   "cell_type": "code",
   "execution_count": 20,
   "metadata": {
    "collapsed": false
   },
   "outputs": [
    {
     "name": "stdout",
     "output_type": "stream",
     "text": [
      "NodeIterator Algorithm's Execution Time: \t 12359 milliseconds.\n",
      "Partition Algorithm's Execution Time: \t\t 4304 milliseconds.\n"
     ]
    }
   ],
   "source": [
    "print(\"NodeIterator Algorithm's Execution Time: \\t {0} milliseconds.\".format(time1))\n",
    "print(\"Partition Algorithm's Execution Time: \\t\\t {0} milliseconds.\".format(time2))"
   ]
  }
 ],
 "metadata": {
  "anaconda-cloud": {},
  "kernelspec": {
   "display_name": "Python [default]",
   "language": "python",
   "name": "python3"
  },
  "language_info": {
   "codemirror_mode": {
    "name": "ipython",
    "version": 3
   },
   "file_extension": ".py",
   "mimetype": "text/x-python",
   "name": "python",
   "nbconvert_exporter": "python",
   "pygments_lexer": "ipython3",
   "version": "3.5.2"
  }
 },
 "nbformat": 4,
 "nbformat_minor": 1
}
